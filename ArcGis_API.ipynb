{
 "cells": [
  {
   "cell_type": "code",
   "execution_count": 10,
   "metadata": {},
   "outputs": [
    {
     "data": {
      "application/vnd.jupyter.widget-view+json": {
       "model_id": "8c4ba3229d044de9a5a99fc6b02270c7",
       "version_major": 2,
       "version_minor": 0
      },
      "text/plain": [
       "MapView(layout=Layout(height='400px', width='100%'), zoom=4.0)"
      ]
     },
     "metadata": {},
     "output_type": "display_data"
    },
    {
     "data": {
      "text/html": [
       "<div class=\"map-static-img-preview-35bcf9ec-0741-4ff5-b7be-c2b31155d28e\"><img src=\"\"></img></div>"
      ],
      "text/plain": [
       "<IPython.core.display.HTML object>"
      ]
     },
     "metadata": {},
     "output_type": "display_data"
    }
   ],
   "source": [
    "from arcgis.gis import GIS\n",
    "\n",
    "myGIS = GIS()\n",
    "\n",
    "myMap = myGIS.map(\"Amazon Basin\", 4)\n",
    "\n",
    "# have a dark base map. \n",
    "myMap.basemap = \"dark-gray-vector\"   \n",
    "myMap"
   ]
  },
  {
   "cell_type": "code",
   "execution_count": 20,
   "metadata": {},
   "outputs": [
    {
     "data": {
      "application/vnd.jupyter.widget-view+json": {
       "model_id": "8c4ba3229d044de9a5a99fc6b02270c7",
       "version_major": 2,
       "version_minor": 0
      },
      "text/plain": [
       "MapView(jupyter_target='notebook', layout=Layout(height='400px', width='100%'), ready=True, zoom=0.0)"
      ]
     },
     "metadata": {},
     "output_type": "display_data"
    },
    {
     "data": {
      "text/html": [
       "<div class=\"map-static-img-preview-35bcf9ec-0741-4ff5-b7be-c2b31155d28e\"><img src=\"\"></img></div>"
      ],
      "text/plain": [
       "<IPython.core.display.HTML object>"
      ]
     },
     "metadata": {},
     "output_type": "display_data"
    }
   ],
   "source": [
    "#Searching for a MODIS\n",
    "fire_search = myGIS.content.search(\"title: MODIS fire type:Feature Layer\")\n",
    "\n",
    "#Results of search\n",
    "#fire_search\n",
    "\n",
    "#Selecting a specific MODIS.\n",
    "#fire_search[0]\n",
    "\n",
    "#New Variable to hold the content Id\n",
    "FireID=fire_search[0].id\n",
    "\n",
    "#getting a layer from myGIS.content.get() with the content ID\n",
    "fire_layer = myGIS.content.get(FireID)\n",
    "\n",
    "#Adding that layer to the Map\n",
    "myMap.add_layer(fire_layer)\n",
    "\n",
    "#Displaying the Map from the Previous 45 hours.\n",
    "myMap"
   ]
  },
  {
   "cell_type": "code",
   "execution_count": null,
   "metadata": {},
   "outputs": [],
   "source": []
  }
 ],
 "metadata": {
  "kernelspec": {
   "display_name": "Python 3",
   "language": "python",
   "name": "python3"
  },
  "language_info": {
   "codemirror_mode": {
    "name": "ipython",
    "version": 3
   },
   "file_extension": ".py",
   "mimetype": "text/x-python",
   "name": "python",
   "nbconvert_exporter": "python",
   "pygments_lexer": "ipython3",
   "version": "3.6.7"
  }
 },
 "nbformat": 4,
 "nbformat_minor": 2
}

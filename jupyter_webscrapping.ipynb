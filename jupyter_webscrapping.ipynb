{
 "cells": [
  {
   "cell_type": "code",
   "execution_count": 1,
   "metadata": {},
   "outputs": [],
   "source": [
    "import bs4"
   ]
  },
  {
   "cell_type": "code",
   "execution_count": 2,
   "metadata": {},
   "outputs": [],
   "source": [
    "from urllib.request import urlopen as uReq\n",
    "from bs4 import BeautifulSoup as soup"
   ]
  },
  {
   "cell_type": "code",
   "execution_count": 30,
   "metadata": {},
   "outputs": [
    {
     "name": "stdout",
     "output_type": "stream",
     "text": [
      "<div class=\"item-container\">\n",
      "<!--product image-->\n",
      "<a class=\"item-img\" href=\"https://www.newegg.com/black-asus-rog-strix-hero-iii-g731gw-db76-gaming-entertainment/p/N82E16834235232?Description=graphic%20bar&amp;cm_re=graphic_bar-_-34-235-232-_-Product\">\n",
      "<div class=\"item-badges\">\n",
      "</div>\n",
      "<img alt='ASUS ROG Strix Hero III (2019) Gaming Laptop, 17.3\" 144 Hz IPS Type FHD, GeForce RTX 2070, Intel Core i7-9750H, 16 GB DDR4, 512 GB PCIe SSD + 1 TB FireCuda, Per-Key RGB KB, Win10 Home, G731GW-DB76' src=\"//c1.neweggimages.com/NeweggImage/ProductImageCompressAll300/34-235-232-Z01.jpg\" title='ASUS ROG Strix Hero III (2019) Gaming Laptop, 17.3\" 144 Hz IPS Type FHD, GeForce RTX 2070, Intel Core i7-9750H, 16 GB DDR4, 512 GB PCIe SSD + 1 TB FireCuda, Per-Key RGB KB, Win10 Home, G731GW-DB76'/>\n",
      "</a>\n",
      "<div class=\"item-info\">\n",
      "<!--brand info-->\n",
      "<div class=\"item-branding\">\n",
      "<a class=\"item-brand\" href=\"https://www.newegg.com/ASUS/BrandStore/ID-1315\">\n",
      "<img alt=\"ASUS\" src=\"//c1.neweggimages.com/Brandimage_70x28//Brand1315.gif\" title=\"ASUS\"/>\n",
      "</a>\n",
      "<!--rating info-->\n",
      "<a class=\"item-rating\" href=\"https://www.newegg.com/black-asus-rog-strix-hero-iii-g731gw-db76-gaming-entertainment/p/N82E16834235232?Item=9SIA7AB9EB3123&amp;Description=graphic%20bar&amp;SortField=0&amp;SummaryType=0&amp;PageSize=10&amp;SelectedRating=-1&amp;VideoOnlyMark=False&amp;cm_re=graphic_bar-_-34-235-232-_-Product&amp;IsFeedbackTab=true#scrollFullInfo\" title=\"Rating + 5\"><i class=\"rating rating-5\"></i><span class=\"item-rating-num\">(2)</span></a>\n",
      "</div>\n",
      "<!--description info-->\n",
      "<a class=\"item-title\" href=\"https://www.newegg.com/black-asus-rog-strix-hero-iii-g731gw-db76-gaming-entertainment/p/N82E16834235232?Description=graphic%20bar&amp;cm_re=graphic_bar-_-34-235-232-_-Product\" title=\"View Details\"><i class=\"icon-premier icon-premier-xsm\"></i>ASUS ROG Strix Hero III (2019) Gaming Laptop, 17.3\" 144 Hz IPS Type FHD, GeForce RTX 2070, Intel Core i7-9750H, 16 GB DDR4, 512 GB PCIe SSD + 1 TB FireCuda, Per-Key RGB KB, Win10 Home, G731GW-DB76</a>\n",
      "<!--promption info-->\n",
      "<p class=\"item-promo\"></p>\n",
      "<!--feature-->\n",
      "<ul class=\"item-features\">\n",
      "<li><strong>Graphic Type:</strong> Dedicated Card</li><li><strong>Resolution:</strong> 1920 x 1080</li><li><strong>Weight:</strong> 6.28 lbs.</li><li><strong>Part Number:</strong> 90NR01Q2-M01760</li>\n",
      "<li><strong>Model #: </strong>G731GW-DB76</li>\n",
      "<li><strong>Return Policy: </strong><a href=\"https://www.newegg.com/DealKing/about\" target=\"_blank\" title=\"View Return Policy(new window)\">View Return Policy</a></li>\n",
      "</ul>\n",
      "<div class=\"item-action\">\n",
      "<!--price-->\n",
      "<ul class=\"price has-label-membership\">\n",
      "<li class=\"price-was\">\r\n",
      "       $2,858.70\r\n",
      "            <span class=\"price-was-data\" style=\"display: none\">2858.70</span>\n",
      "</li>\n",
      "<li class=\"price-map\">\n",
      "</li>\n",
      "<li class=\"price-current\">\n",
      "<span class=\"price-current-label\">\n",
      "<a aria-label=\"Premier Price Explaination\" class=\"membership-info membership-popup\" data-neg-popid=\"MembershipPopup\" href=\"javascript:void(0);\" name=\"membership\" style=\"display: inline\"><span class=\"membership-icon\"></span><span style=\"display: none\">|</span></a>\n",
      "</span>$<strong>2,199</strong><sup>.00</sup> <a class=\"price-current-num\" href=\"https://www.newegg.com/black-asus-rog-strix-hero-iii-g731gw-db76-gaming-entertainment/p/N82E16834235232?buyingoptions=New&amp;Description=graphic%20bar\">(12 Offers)</a>\n",
      "<span class=\"price-current-range\">\n",
      "<abbr title=\"to\">–</abbr>\n",
      "</span>\n",
      "</li>\n",
      "<li class=\"price-save\">\n",
      "<span class=\"price-save-endtime price-save-endtime-current\"></span>\n",
      "<span class=\"price-save-endtime price-save-endtime-another\" style=\"display:none;\"></span>\n",
      "<span class=\"price-save-label\">Save: </span>\n",
      "<span class=\"price-save-dollar\"></span>\n",
      "<span class=\"price-save-percent\">23%</span>\n",
      "</li>\n",
      "<li class=\"price-note\">\n",
      "</li>\n",
      "<li class=\"price-ship\">\r\n",
      "        Special Shipping\r\n",
      "    </li>\n",
      "</ul>\n",
      "<!--egg point-->\n",
      "<!--financing-->\n",
      "<!--button-->\n",
      "<div class=\"item-operate\">\n",
      "<div class=\"item-button-area\">\n",
      "<button class=\"btn btn-mini\" onclick=\"Javascript:Biz.ProductList.Item.add('https://www.newegg.com/black-asus-rog-strix-hero-iii-g731gw-db76-gaming-entertainment/p/N82E16834235232?Description=graphic%20bar');\" title=\"View Details\" type=\"button\">View Details <i class=\"fa fa-caret-right\"></i>\n",
      "</button>\n",
      "</div>\n",
      "<!--compare-->\n",
      "<div class=\"item-compare-box\">\n",
      "<label class=\"form-checkbox\">\n",
      "<input autocomplete=\"off\" name=\"CompareItem\" neg-itemnumber=\"9SIA7AB9EB3123\" type=\"checkbox\" value=\"CompareItem_9SIA7AB9EB3123\"/>\n",
      "<span class=\"form-checkbox-title\">Compare</span>\n",
      "</label>\n",
      "<input compare-description='ASUS ROG Strix Hero III (2019) Gaming Laptop, 17.3\" 144 Hz IPS Type FHD, GeForce RTX 2070, Intel Core i7-9750H, 16 GB DDR4, 512 GB PCIe SSD + 1 TB FireCuda, Per-Key RGB KB, Win10 Home, G731GW-DB76' compare-imageurl=\"//c1.neweggimages.com/ProductImageCompressAll35/34-235-232-Z01.jpg\" compare-itemnumber=\"9SIA7AB9EB3123\" compare-producturl=\"/black-asus-rog-strix-hero-iii-g731gw-db76-gaming-entertainment/p/N82E16834235232?Item=9SIA7AB9EB3123\" compare-subcategorydescription=\"Gaming Laptops\" compare-subcategoryid=\"3365\" type=\"hidden\">\n",
      "</input></div>\n",
      "<script type=\"text/javascript\">\r\n",
      "                            \r\n",
      "                                Biz.Product.CompareConfig2019.compareItems.push(\"9SIA7AB9EB3123\");\r\n",
      "                                var itemThumbs = new Object();\r\n",
      "                                itemThumbs.subCategoryId = 3365;\r\n",
      "                                itemThumbs.subCategoryDescription = \"Gaming Laptops\";\r\n",
      "                                itemThumbs.itemNumber = \"9SIA7AB9EB3123\";\r\n",
      "                                itemThumbs.imageUrl = \"//c1.neweggimages.com/ProductImageCompressAll35/34-235-232-Z01.jpg\";\r\n",
      "                                itemThumbs.description = \"ASUS ROG Strix Hero III &#40;2019&#41; Gaming Laptop, 17.3&#34; 144 Hz IPS Type FHD, GeForce RTX 2070, Intel Core i7-9750H, 16 GB DDR4, 512 GB PCIe SSD &#43; 1 TB FireCuda, Per-Key RGB KB, Win10 Home, G731GW-DB76\";\r\n",
      "                                itemThumbs.productUrl = \"/black-asus-rog-strix-hero-iii-g731gw-db76-gaming-entertainment/p/N82E16834235232?Item=9SIA7AB9EB3123\";\r\n",
      "                                Biz.Product.CompareConfig2019.Thumbs.push(itemThumbs);\r\n",
      "                            \r\n",
      "                            Biz.Product.CompareConfig.compareItems.push(\"9SIA7AB9EB3123\");\r\n",
      "                            var itemThumbs = new Object();\r\n",
      "                            itemThumbs.itemNumber = \"9SIA7AB9EB3123\";\r\n",
      "                            itemThumbs.imageUrl = \"//c1.neweggimages.com/ProductImageCompressAll35/34-235-232-Z01.jpg\";\r\n",
      "                            Biz.Product.CompareConfig.Thumbs.push(itemThumbs);\r\n",
      "                        </script>\n",
      "</div>\n",
      "<!--ExtendWarranty PopUp-->\n",
      "<input class=\"open-popup\" id=\"ew_9SIA7AB9EB3123\" type=\"hidden\">\n",
      "<input class=\"open-popup\" id=\"ew_MainItemFailedAddToCart_9SIA7AB9EB3123\" type=\"hidden\">\n",
      "</input></input></div>\n",
      "</div>\n",
      "<div class=\"item-stock\" id=\"stock_9SIA7AB9EB3123\">\n",
      "</div>\n",
      "</div>\n"
     ]
    }
   ],
   "source": [
    "my_url = 'https://www.newegg.com/p/pl?d=graphic+bar'\n",
    "\n",
    "#Opening up connection. and grabbing the page\n",
    "uClient = uReq(my_url)\n",
    "page_html = uClient.read()\n",
    "\n",
    "uClient.close()\n",
    "\n",
    "#Html Parsing\n",
    "page_soup = soup(page_html, \"html.parser\")\n",
    "\n",
    "#print(page_soup.h1)\n",
    "#print(page_soup.p)\n",
    "\n",
    "#grab each product\n",
    "containers = page_soup.findAll(\"div\", {\"class\": \"item-container\"})\n",
    "#print(len(containers))\n",
    "\n",
    "\n",
    "print(containers[0])"
   ]
  },
  {
   "cell_type": "code",
   "execution_count": 59,
   "metadata": {},
   "outputs": [
    {
     "name": "stdout",
     "output_type": "stream",
     "text": [
      "36\n"
     ]
    }
   ],
   "source": [
    "#grab each product\n",
    "containers = page_soup.findAll(\"div\", {\"class\": \"item-container\"})\n",
    "print(len(containers))"
   ]
  },
  {
   "cell_type": "code",
   "execution_count": 72,
   "metadata": {
    "scrolled": true
   },
   "outputs": [
    {
     "name": "stdout",
     "output_type": "stream",
     "text": [
      "\r\n",
      "       $2,858.70\r\n",
      "            2858.70\n",
      "\n"
     ]
    }
   ],
   "source": [
    "contain = containers[0]\n",
    "container = containers[0] \n",
    "\n",
    "price_container = container.findAll(\"li\", {\"class\": \"price-was\"})\n",
    "#shipping_container = container.findAll(\"li\", {\"class\": \"price-ship\"})\n",
    "print(price_container[0].text)"
   ]
  },
  {
   "cell_type": "code",
   "execution_count": 84,
   "metadata": {},
   "outputs": [
    {
     "name": "stdout",
     "output_type": "stream",
     "text": [
      "brandBixolon SRP-350plusIII 3” Direct Thermal Receipt Printer, USB, Ethernet, Auto Cutter, Black - SRP-350plusIIICOG\n",
      "shippingFree Shipping\n"
     ]
    }
   ],
   "source": [
    "filename = \"product.csv\"\n",
    "f = open(filename, \"w\")\n",
    "\n",
    "header = \"brand, shipping\"\n",
    "f.write(header)\n",
    "\n",
    "\n",
    "for container in containers:\n",
    "    brand = container.img[\"title\"]\n",
    "   # price_container = container.findAll(\"li\", {\"class\": \"price-was\"})\n",
    "    shipping_container = container.findAll(\"li\", {\"class\": \"price-ship\"})\n",
    "   # price_contain = price_container.text\n",
    "    shipping = shipping_container[0].text.strip()\n",
    "\n",
    "    \n",
    "print(\"brand\" + brand)\n",
    "#print(price_container)\n",
    "print(\"shipping\" + shipping)\n",
    "\n",
    "\n",
    "f.write(brand.replace(\",\", \"|\") + \",\" + shipping + \"\\n\")\n",
    "\n",
    "f.close()"
   ]
  },
  {
   "cell_type": "raw",
   "metadata": {},
   "source": []
  }
 ],
 "metadata": {
  "kernelspec": {
   "display_name": "Python 3",
   "language": "python",
   "name": "python3"
  },
  "language_info": {
   "codemirror_mode": {
    "name": "ipython",
    "version": 3
   },
   "file_extension": ".py",
   "mimetype": "text/x-python",
   "name": "python",
   "nbconvert_exporter": "python",
   "pygments_lexer": "ipython3",
   "version": "3.7.3"
  }
 },
 "nbformat": 4,
 "nbformat_minor": 2
}
